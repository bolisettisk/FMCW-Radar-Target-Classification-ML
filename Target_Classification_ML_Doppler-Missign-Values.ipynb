{
 "cells": [
  {
   "cell_type": "code",
   "execution_count": 1,
   "id": "2051d212",
   "metadata": {},
   "outputs": [],
   "source": [
    "import os\n",
    "import numpy as np"
   ]
  },
  {
   "cell_type": "code",
   "execution_count": 2,
   "id": "cf6ca8c1",
   "metadata": {},
   "outputs": [],
   "source": [
    "# Defining global parameters\n",
    "target_directory = \"..\\data\" # Relative location of the FMCW radar data \n"
   ]
  },
  {
   "cell_type": "code",
   "execution_count": 3,
   "id": "1e39d524",
   "metadata": {},
   "outputs": [],
   "source": [
    "target_classifications_dict = {\"Square_Doppler_3dB\":0, \"Triangle_Doppler_3dB\":1, \"Car\":2, \"Person\":3} # Target classifications and their classes\n",
    "\n",
    "dir_list = os.listdir(target_directory) # Extracting the list of all directories in the target location\n",
    "target_class_list = list(target_classifications_dict.keys()) # List of target classifications\n",
    "dir_exceptions = [dir_entry for dir_entry in dir_list if dir_entry not in target_class_list] # List of floders to ignore in the target directory\n"
   ]
  },
  {
   "cell_type": "code",
   "execution_count": 4,
   "id": "580ed9f0",
   "metadata": {},
   "outputs": [],
   "source": [
    "def Load_data(target_directory, dir_exceptions, target_classifications_dict, data_count=0):\n",
    "    \"\"\"\n",
    "    Loads .npy files from all the directories within the target directory while ignoring the specified sub-directories\n",
    "    target_directory: Primary directory location to import data\n",
    "    dir_exceptions: List of sub-directories within the target directory to ignore\n",
    "    target_classifications_dict: Dictionary with target sub-directory names as keys and respective class label as values\n",
    "    data_count: Required number of measurement samples to load. The count is applied independently to each sub-directory within the target directory\n",
    "    \"\"\"\n",
    "    FMCW_radar_data = [] # Empty list to store FMCW radar data\n",
    "    target_classifications = [] # Empty list to store target class instances\n",
    "    for root, folders, data in os.walk(target_directory): # Runs through the all folders, sub-folders and respective files within the root/target directory\n",
    "        folders[:] = [folder for folder in folders if folder not in dir_exceptions] # Filtering to extract only the folders with required data\n",
    "        data_len = len(data)\n",
    "        count = data_len-data_count\n",
    "        for file in data: # Iterating through each data file in each target class directory\n",
    "            if count == data_len:\n",
    "                break\n",
    "#             print(root.split(\"\\\\\")[-1])\n",
    "            target_classifications.append(target_classifications_dict[root.split(\"\\\\\")[-1]]) # Adding target class instances using values from target_classifications_dict dictionary\n",
    "            FMCW_radar_data_path = root + '\\\\' + file # Generating the local path to each data file \n",
    "            FMCW_radar_data.append(np.load(FMCW_radar_data_path)) # Loading each data file into FMCW_radar_data list\n",
    "            count += 1\n",
    "    target_classifications = np.array(target_classifications) # Converting target class list to an array\n",
    "    FMCW_radar_data = np.array(FMCW_radar_data) # Converting data list to an array\n",
    "    \n",
    "    return [FMCW_radar_data, target_classifications]"
   ]
  },
  {
   "cell_type": "code",
   "execution_count": 5,
   "id": "9501af8f",
   "metadata": {},
   "outputs": [],
   "source": [
    "[FMCW_radar_data, target_classifications] = Load_data(target_directory, dir_exceptions, \n",
    "                                                      target_classifications_dict, data_count=4000)"
   ]
  },
  {
   "cell_type": "code",
   "execution_count": 6,
   "id": "4e8f4bc3",
   "metadata": {},
   "outputs": [
    {
     "data": {
      "text/plain": [
       "0"
      ]
     },
     "execution_count": 6,
     "metadata": {},
     "output_type": "execute_result"
    }
   ],
   "source": [
    "np.isnan(FMCW_radar_data).sum()"
   ]
  },
  {
   "cell_type": "code",
   "execution_count": 7,
   "id": "d33db02a",
   "metadata": {},
   "outputs": [],
   "source": [
    "nan_id = ~np.isnan(FMCW_radar_data).any(axis=(1, 2))\n",
    "FMCW_radar_data_cleaned = FMCW_radar_data[nan_id]\n",
    "target_classifications_cleaned = target_classifications[nan_id]"
   ]
  },
  {
   "cell_type": "code",
   "execution_count": 8,
   "id": "1f6236df",
   "metadata": {},
   "outputs": [
    {
     "data": {
      "text/plain": [
       "[(15093, 256, 64), (15093, 256, 64), (15093,), (15093,)]"
      ]
     },
     "execution_count": 8,
     "metadata": {},
     "output_type": "execute_result"
    }
   ],
   "source": [
    "[FMCW_radar_data.shape, FMCW_radar_data_cleaned.shape, target_classifications.shape, target_classifications_cleaned.shape]"
   ]
  },
  {
   "cell_type": "code",
   "execution_count": null,
   "id": "ec9f33b4",
   "metadata": {},
   "outputs": [],
   "source": []
  },
  {
   "cell_type": "code",
   "execution_count": null,
   "id": "bccdcbce",
   "metadata": {},
   "outputs": [],
   "source": []
  },
  {
   "cell_type": "code",
   "execution_count": null,
   "id": "02beb478",
   "metadata": {},
   "outputs": [],
   "source": []
  },
  {
   "cell_type": "code",
   "execution_count": null,
   "id": "c11633c6",
   "metadata": {},
   "outputs": [],
   "source": []
  }
 ],
 "metadata": {
  "kernelspec": {
   "display_name": "Python 3 (ipykernel)",
   "language": "python",
   "name": "python3"
  },
  "language_info": {
   "codemirror_mode": {
    "name": "ipython",
    "version": 3
   },
   "file_extension": ".py",
   "mimetype": "text/x-python",
   "name": "python",
   "nbconvert_exporter": "python",
   "pygments_lexer": "ipython3",
   "version": "3.9.18"
  }
 },
 "nbformat": 4,
 "nbformat_minor": 5
}
