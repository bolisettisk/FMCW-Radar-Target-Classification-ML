{
 "cells": [
  {
   "cell_type": "code",
   "execution_count": 1,
   "id": "d99b6175",
   "metadata": {},
   "outputs": [],
   "source": [
    "import sys\n",
    "import os\n",
    "import joblib\n",
    "import numpy as np\n",
    "import random\n",
    "from datetime import datetime\n",
    "import matplotlib.pyplot as plt\n",
    "\n",
    "from tensorflow.keras.utils import to_categorical\n",
    "\n",
    "from IPython.display import clear_output"
   ]
  },
  {
   "cell_type": "code",
   "execution_count": 2,
   "id": "72b41268",
   "metadata": {},
   "outputs": [],
   "source": [
    "# current_dir = sys.path.copy()\n",
    "# library_dir = \"..\\Data Simulation\"\n",
    "# sys.path.append(os.path.abspath(library_dir))\n",
    "from FMCW_Data_Simulation_Library import Tx_gen, Get_Target_Params, Rx_mpt_gen, Rx_add_noise, FFT_gen, Target_Data_gen, ML_Model_Tester\n",
    "\n",
    "# sys.path = current_dir"
   ]
  },
  {
   "cell_type": "code",
   "execution_count": 3,
   "id": "e5c9d74f",
   "metadata": {},
   "outputs": [],
   "source": [
    "range_max = 200 # Maximum range of the target\n",
    "c = 3e8 # Speed of light\n",
    "range_resolution = 1 # FMCW radar range resolution\n",
    "Nd = 64 # Number of chirps\n",
    "Nr = 256 # Numnber samples per chirp\n",
    "fc = 77e9 # FMCW radar carrier frequency\n",
    "endle_time = 6.3e-6 # Time delay between ramps\n",
    "range_window = np.hamming(Nr) # hamming window for range FFT data\n",
    "doppler_window = np.hamming(Nd) # hamming window for doppler FFT data\n",
    "Shapes_dict = {\"Square\":0, \"Triangle\":1} # Required target shapes to simulate"
   ]
  },
  {
   "cell_type": "code",
   "execution_count": 4,
   "id": "84e942b4",
   "metadata": {},
   "outputs": [],
   "source": [
    "def ML_Model_Test_Data_gen(Shapes_dict, data_samples, SNR_dB, Output, c, Nd, Nr, fc, Tx, t, slope, Fs, \n",
    "                    endle_time, range_window, doppler_window, relative_file_path, write_to_file=False, Categorical_y_test=False):\n",
    "    \n",
    "    Shapes = list(Shapes_dict.keys()) # Extracting target shape names\n",
    "    Shapes_list = Shapes*(int(data_samples/2)) # Generating required number of target shape samples\n",
    "    random.shuffle(Shapes_list) # Shuffling the list of target shape names for randomisation\n",
    "    target_classifications = [Shapes_dict[key] for key in Shapes_list] # Generating equivalent randomised target classifications\n",
    "    \n",
    "    target_data = [] # An empty list to store FMCW radar data\n",
    "    status_counter = 0 # Status counter\n",
    "    for Shape in Shapes_list: # Iterating for each shape in randomised Shapes list\n",
    "        [min_range, max_range, min_velocity, max_velocity, min_shape_dim, \n",
    "         max_shape_dim, ranges, \n",
    "         velocities, shape_dims] = Get_Target_Params(Shape, 1000) # Generating target parameters for each shape\n",
    "        \n",
    "        target_range = random.choice(ranges) # Randomising input target range for the current shape\n",
    "        target_velocity = random.choice(velocities) # Randomising input target velocity for the current shape\n",
    "        target_shape_dims = random.choice(shape_dims) # Randomising input target shape dimensions for the current shape\n",
    "        \n",
    "        Rx_Signals_mpt_sqr = Rx_mpt_gen(Nd, Nr, Tx, endle_time, target_range, \n",
    "                                        target_velocity, t, slope, c, fc, shape=Shape, \n",
    "                                        shape_dim=target_shape_dims) # Genearting FMCW Rx multi-point target return signal\n",
    "        Rx_Signals_mpt_sqr_noise = Rx_add_noise(Rx_Signals_mpt_sqr, SNR_dB) # Adding noise with a required signal-to-noise ratio\n",
    "        \n",
    "        if Output == \"Doppler_FFT\":\n",
    "            Output_Data = FFT_gen(Rx_Signals_mpt_sqr_noise, Fs, Nr, c, slope, \n",
    "                                  range_window, doppler_window, range_window_en=True,\n",
    "                                  doppler_window_en=True, range_plot=False, doppler_fft=True, \n",
    "                                  doppler_plot_linear=False, doppler_plot_log=False, \n",
    "                                  doppler_data_format='Linear', range_data_format='Linear') # Generating range or doppler FFT outputs\n",
    "        \n",
    "        elif Output == \"Range_FFT\":\n",
    "            Output_Data = FFT_gen(Rx_Signals_mpt_sqr_noise, Fs, Nr, c, slope,\n",
    "                                  range_window, doppler_window, range_window_en=True, \n",
    "                                  doppler_window_en=True, range_plot=range_plot, doppler_fft=False, \n",
    "                                  doppler_plot_linear=False, doppler_plot_log=False, \n",
    "                                  doppler_data_format='Linear', range_data_format='Linear') # Generating range or doppler FFT outputs\n",
    "                \n",
    "        elif Output == \"Time_Domain_Signal\":\n",
    "            Output_Data = Rx_Signals_mpt_sqr_noise # Time domain noisy multi-point target return signal data output\n",
    "\n",
    "\n",
    "        target_data.append(Output_Data.T) # Apending FMCW radar data for each iteration of target shape\n",
    "        \n",
    "        status_counter += 1\n",
    "        print(\"--- {}dB SNR: {}% complete! ---\".format(SNR_dB, int((status_counter/data_samples)*100)),end=\"\\r\") # Printing status\n",
    "        \n",
    "        \n",
    "    y_test = np.array(target_classifications) # Converting target classification list to an array\n",
    "    if Categorical_y_test: # Checking if y_test input needs to be of categorical format\n",
    "        y_test = to_categorical(y_test, len(Shapes_dict)) # Converting y_test to categorical\n",
    "    X_test = np.array(target_data) # Converting radar data to an array\n",
    "    \n",
    "    if write_to_file: # Checking if output needs to be writted to a local directory\n",
    "        if SNR_dB < 0:\n",
    "            filename = f\"m{abs(SNR_dB)}dB\" # Generating the file name according to the SNR value\n",
    "        else:\n",
    "            filename = f\"{abs(SNR_dB)}dB\" # Generating the file name according to the SNR value\n",
    "        directory_path = relative_file_path # Path to the local directory\n",
    "        if not os.path.exists(directory_path): # Checking if the target local directory does not exist\n",
    "            os.mkdir(directory_path) # Creating the target directory if it doesn't exist\n",
    "        file_path_evaluation_data = relative_file_path + '/' + 'evaluation_data' + '_' + filename + '.npy' # Generating output directory path to save the data locally\n",
    "        np.save(file_path_evaluation_data, X_test) # Saving the data in the required local directory\n",
    "        file_path_evaluation_class = relative_file_path + '/' + 'evaluation_class' + '_' + filename + '.npy' # Generating output directory path to save the data class locally\n",
    "        np.save(file_path_evaluation_class, y_test) # Saving the data class in the required local directory\n",
    "\n",
    "    else:\n",
    "        return X_test, y_test\n"
   ]
  },
  {
   "cell_type": "code",
   "execution_count": 5,
   "id": "542b7acd",
   "metadata": {},
   "outputs": [],
   "source": [
    "Tx, t, slope, Tchirp = Tx_gen(range_max, c, range_resolution, Nd, Nr, fc)\n",
    "Fs = Nr/Tchirp # Sampling rate"
   ]
  },
  {
   "cell_type": "code",
   "execution_count": 7,
   "id": "0afaf87e",
   "metadata": {},
   "outputs": [
    {
     "name": "stdout",
     "output_type": "stream",
     "text": [
      "--- 4.75dB SNR: 100% complete! ------\r"
     ]
    }
   ],
   "source": [
    "relative_file_path = '../data/evaluation_data/'\n",
    "for SNR_dB in np.arange(-15, 5, 0.25):\n",
    "    ML_Model_Test_Data_gen(Shapes_dict, 1000, SNR_dB, \"Doppler_FFT\", c, Nd, Nr, fc, Tx, t, slope, Fs, \n",
    "                    endle_time, range_window, doppler_window, relative_file_path, \n",
    "                    write_to_file=True, Categorical_y_test=False)"
   ]
  },
  {
   "cell_type": "code",
   "execution_count": null,
   "id": "81daee40",
   "metadata": {},
   "outputs": [],
   "source": []
  },
  {
   "cell_type": "code",
   "execution_count": null,
   "id": "161a0162",
   "metadata": {},
   "outputs": [],
   "source": []
  },
  {
   "cell_type": "code",
   "execution_count": null,
   "id": "bff369d5",
   "metadata": {},
   "outputs": [],
   "source": []
  }
 ],
 "metadata": {
  "kernelspec": {
   "display_name": "Python 3 (ipykernel)",
   "language": "python",
   "name": "python3"
  },
  "language_info": {
   "codemirror_mode": {
    "name": "ipython",
    "version": 3
   },
   "file_extension": ".py",
   "mimetype": "text/x-python",
   "name": "python",
   "nbconvert_exporter": "python",
   "pygments_lexer": "ipython3",
   "version": "3.9.18"
  }
 },
 "nbformat": 4,
 "nbformat_minor": 5
}
