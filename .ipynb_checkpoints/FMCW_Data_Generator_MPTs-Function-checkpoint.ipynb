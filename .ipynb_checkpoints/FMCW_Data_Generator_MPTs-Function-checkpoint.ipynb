{
 "cells": [
  {
   "cell_type": "code",
   "execution_count": 1,
   "id": "17533b47",
   "metadata": {},
   "outputs": [],
   "source": [
    "import os\n",
    "import numpy as np\n",
    "import random\n",
    "import seaborn as sns\n",
    "from FMCW_Data_Simulation_Library import Tx_gen, Get_Target_Params, Rx_mpt_gen, Rx_add_noise, FFT_gen, Target_Data_gen"
   ]
  },
  {
   "cell_type": "code",
   "execution_count": 2,
   "id": "4c7afc77",
   "metadata": {},
   "outputs": [],
   "source": [
    "range_max = 200 # Maximum range of the target\n",
    "c = 3e8 # Speed of light\n",
    "range_resolution = 1 # FMCW radar range resolution\n",
    "Nd = 64 # Number of chirps\n",
    "Nr = 256 # Numnber samples per chirp\n",
    "fc = 77e9 # FMCW radar carrier frequency\n",
    "endle_time = 6.3e-6 # Time delay between ramps\n",
    "\n",
    "data_points = 10 # Number of data points to generate\n",
    "\n",
    "range_window = np.hamming(Nr) # hamming window for range FFT data\n",
    "doppler_window = np.hamming(Nd) # hamming window for doppler FFT data\n",
    "\n",
    "Shapes = [\"Square\", \"Triangle\"] # Required target shapes to simulate"
   ]
  },
  {
   "cell_type": "code",
   "execution_count": 3,
   "id": "eaef9f95",
   "metadata": {},
   "outputs": [],
   "source": [
    "Tx, t, slope, Tchirp = Tx_gen(range_max, c, range_resolution, Nd, Nr, fc)\n",
    "Fs = Nr/Tchirp # Sampling rate"
   ]
  },
  {
   "cell_type": "code",
   "execution_count": 4,
   "id": "6e61c79c",
   "metadata": {},
   "outputs": [
    {
     "name": "stdout",
     "output_type": "stream",
     "text": [
      "--- Triangle: 100% complete! ---\r"
     ]
    }
   ],
   "source": [
    "Shapes = [\"Square\", \"Triangle\"] # Specifying target shapes\n",
    "SNR_dB = 3 # Specifying SNR value\n",
    "relative_file_path = '../data/' # Relative file path to save the data\n",
    "if not os.path.exists(relative_file_path): # Checking if requried directories exist\n",
    "    os.mkdir(relative_file_path) # Creating the required directory if it does not exist\n",
    "Target_Data_gen(Shapes, data_points, Tx, t, slope, Tchirp, Fs, Nd, Nr, endle_time, c, fc, \n",
    "                    range_window, doppler_window, SNR_dB, relative_file_path, file_name_suffix=\"_Doppler_3dB\", \n",
    "                    Output=\"Doppler_FFT\", range_window_en=True, doppler_window_en=True,\n",
    "                    range_plot=False, doppler_plot_linear=False, doppler_plot_log=False,\n",
    "                    write_to_file=True, local_output=False, debug=False) # Running the data generation function "
   ]
  },
  {
   "cell_type": "code",
   "execution_count": null,
   "id": "d3e0c32d",
   "metadata": {},
   "outputs": [],
   "source": []
  },
  {
   "cell_type": "code",
   "execution_count": null,
   "id": "627ec2f7",
   "metadata": {},
   "outputs": [],
   "source": []
  },
  {
   "cell_type": "code",
   "execution_count": null,
   "id": "9822e84b",
   "metadata": {},
   "outputs": [],
   "source": []
  },
  {
   "cell_type": "code",
   "execution_count": null,
   "id": "a9064548",
   "metadata": {},
   "outputs": [],
   "source": []
  },
  {
   "cell_type": "code",
   "execution_count": null,
   "id": "9ddc829e",
   "metadata": {},
   "outputs": [],
   "source": []
  },
  {
   "cell_type": "code",
   "execution_count": null,
   "id": "8854617d",
   "metadata": {},
   "outputs": [],
   "source": []
  },
  {
   "cell_type": "code",
   "execution_count": null,
   "id": "1e4cbdb6",
   "metadata": {},
   "outputs": [],
   "source": []
  },
  {
   "cell_type": "code",
   "execution_count": null,
   "id": "010bd975",
   "metadata": {},
   "outputs": [],
   "source": []
  }
 ],
 "metadata": {
  "kernelspec": {
   "display_name": "Python 3 (ipykernel)",
   "language": "python",
   "name": "python3"
  },
  "language_info": {
   "codemirror_mode": {
    "name": "ipython",
    "version": 3
   },
   "file_extension": ".py",
   "mimetype": "text/x-python",
   "name": "python",
   "nbconvert_exporter": "python",
   "pygments_lexer": "ipython3",
   "version": "3.9.18"
  }
 },
 "nbformat": 4,
 "nbformat_minor": 5
}
