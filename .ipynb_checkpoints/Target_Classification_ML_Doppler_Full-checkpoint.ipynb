{
 "cells": [
  {
   "cell_type": "code",
   "execution_count": 1,
   "id": "2051d212",
   "metadata": {},
   "outputs": [],
   "source": [
    "import os\n",
    "import joblib\n",
    "from IPython.display import clear_output\n",
    "\n",
    "import numpy as np\n",
    "import matplotlib.pyplot as plt\n",
    "\n",
    "from sklearn.model_selection import train_test_split, GridSearchCV\n",
    "from scikeras.wrappers import KerasClassifier\n",
    "from sklearn.model_selection import RandomizedSearchCV\n",
    "from tensorflow.keras.utils import to_categorical\n",
    "from sklearn.ensemble import GradientBoostingClassifier\n",
    "from tensorflow.keras.models import Sequential\n",
    "from tensorflow.keras.layers import Dense, SimpleRNN, Dropout, LSTM\n",
    "import tensorflow as tf\n",
    "from sklearn.metrics import accuracy_score, classification_report, confusion_matrix, ConfusionMatrixDisplay\n",
    "\n",
    "from datetime import datetime"
   ]
  },
  {
   "cell_type": "code",
   "execution_count": 2,
   "id": "cf6ca8c1",
   "metadata": {},
   "outputs": [],
   "source": [
    "# Defining global parameters\n",
    "target_directory = \"..\\data\" # Relative location of the FMCW radar data \n",
    "\n",
    "ML_model_path = \"ML_Model_Doppler_3dB_Full\\\\\"\n",
    "if not os.path.exists(ML_model_path):\n",
    "    os.mkdir(ML_model_path)\n",
    "    \n",
    "write_to_file = True"
   ]
  },
  {
   "cell_type": "code",
   "execution_count": 3,
   "id": "1e39d524",
   "metadata": {},
   "outputs": [],
   "source": [
    "target_classifications_dict = {\"Square_Doppler_3dB\":0, \"Triangle_Doppler_3dB\":1, \"Car\":2, \"Person\":3} # Target classifications and their classes\n",
    "\n",
    "dir_list = os.listdir(target_directory) # Extracting the list of all directories in the target location\n",
    "target_class_list = list(target_classifications_dict.keys()) # List of target classifications\n",
    "dir_exceptions = [dir_entry for dir_entry in dir_list if dir_entry not in target_class_list] # List of floders to ignore in the target directory\n"
   ]
  },
  {
   "cell_type": "code",
   "execution_count": 4,
   "id": "580ed9f0",
   "metadata": {},
   "outputs": [],
   "source": [
    "def Load_data(target_directory, dir_exceptions, target_classifications_dict, data_count=0):\n",
    "    \"\"\"\n",
    "    Loads .npy files from all the directories within the target directory while ignoring the specified sub-directories\n",
    "    target_directory: Primary directory location to import data\n",
    "    dir_exceptions: List of sub-directories within the target directory to ignore\n",
    "    target_classifications_dict: Dictionary with target sub-directory names as keys and respective class label as values\n",
    "    data_count: Required number of measurement samples to load. The count is applied independently to each sub-directory within the target directory\n",
    "    \"\"\"\n",
    "    FMCW_radar_data = [] # Empty list to store FMCW radar data\n",
    "    target_classifications = [] # Empty list to store target class instances\n",
    "    for root, folders, data in os.walk(target_directory): # Runs through the all folders, sub-folders and respective files within the root/target directory\n",
    "        folders[:] = [folder for folder in folders if folder not in dir_exceptions] # Filtering to extract only the folders with required data\n",
    "        data_len = len(data)\n",
    "        count = data_len-data_count\n",
    "        for file in data: # Iterating through each data file in each target class directory\n",
    "            if count == data_len:\n",
    "                break\n",
    "            target_classifications.append(target_classifications_dict[root.split(\"\\\\\")[-1]]) # Adding target class instances using values from target_classifications_dict dictionary\n",
    "            FMCW_radar_data_path = root + '\\\\' + file # Generating the local path to each data file \n",
    "            FMCW_radar_data.append(np.load(FMCW_radar_data_path)) # Loading each data file into FMCW_radar_data list\n",
    "            count += 1\n",
    "    target_classifications = np.array(target_classifications) # Converting target class list to an array\n",
    "    FMCW_radar_data = np.array(FMCW_radar_data) # Converting data list to an array\n",
    "    \n",
    "    return [FMCW_radar_data, target_classifications]"
   ]
  },
  {
   "cell_type": "code",
   "execution_count": 6,
   "id": "78453491",
   "metadata": {},
   "outputs": [],
   "source": [
    "[FMCW_radar_data, target_classifications] = Load_data(target_directory, dir_exceptions, \n",
    "                                                      target_classifications_dict, data_count=4000)\n",
    "\n",
    "X_train_full, X_test, y_train_full, y_test = train_test_split(\n",
    "    FMCW_radar_data, target_classifications, test_size=0.2, random_state=99, \n",
    "    stratify=target_classifications) # Splitting the data to training and test sets\n",
    "y_test_Cat = to_categorical(y_test, len(target_classifications_dict)) # Converting y_test to categorical\n"
   ]
  },
  {
   "cell_type": "code",
   "execution_count": 7,
   "id": "f2904293",
   "metadata": {},
   "outputs": [],
   "source": [
    "X_train, X_train_hpt, y_train, y_train_hpt = train_test_split(\n",
    "    X_train_full, y_train_full, test_size=0.1, \n",
    "    random_state=99, stratify=y_train_full) # Splitting the data to training and test sets\n",
    "y_train_Cat_hpt = to_categorical(y_train_hpt, len(target_classifications_dict)) # Converting y_train to categorical\n",
    "y_train_Cat = to_categorical(y_train, len(target_classifications_dict)) # Converting y_train to categorical"
   ]
  },
  {
   "cell_type": "code",
   "execution_count": 8,
   "id": "1db3733f",
   "metadata": {},
   "outputs": [
    {
     "name": "stdout",
     "output_type": "stream",
     "text": [
      "Fitting 5 folds for each of 12 candidates, totalling 60 fits\n",
      "GBC model best params:  {'learning_rate': 0.85, 'max_depth': 2, 'n_estimators': 2}\n"
     ]
    }
   ],
   "source": [
    "def GBC_hyper_params_tuner(GBC_hyper_params, X_train_hpt, y_train_hpt):\n",
    "    \"\"\"\n",
    "    Function to optimise hyper parameters for Gradient Boosting Classifier model\n",
    "    \"\"\"\n",
    "    GBC_model = GradientBoostingClassifier() # Instantiating Gradient Boosting Classifier model\n",
    "    GBC_GSCV = GridSearchCV(estimator=GBC_model, param_grid=GBC_hyper_params, \n",
    "                           cv=5, n_jobs=-1, verbose=2, scoring='accuracy') # Using GridSearchCV() for hyper-parameter tuning\n",
    "\n",
    "    GBC_GSCV.fit(X_train_hpt, y_train_hpt) # Optimising hyper-parameters\n",
    "\n",
    "    return GBC_GSCV\n",
    "\n",
    "X_train_reshape_hpt = X_train_hpt.reshape(X_train_hpt.shape[0], -1) # Reshaping data to required format\n",
    "GBC_hyper_params = {'n_estimators': [1, 2],\n",
    "    'learning_rate': [0.65, 0.75, 0.85],\n",
    "    'max_depth': [1, 2]\n",
    "                   } # Defining a set of hyper-parameters to optimise\n",
    "\n",
    "GBC_model_tuned = GBC_hyper_params_tuner(GBC_hyper_params, X_train_reshape_hpt, y_train_hpt) # Optimising hyper-parameters\n",
    "print(\"GBC model best params: \", GBC_model_tuned.best_params_)\n"
   ]
  },
  {
   "cell_type": "code",
   "execution_count": 9,
   "id": "c7691e57",
   "metadata": {},
   "outputs": [
    {
     "name": "stdout",
     "output_type": "stream",
     "text": [
      "Gradient Boosting Classifier Accuracy: 0.999337528983107\n",
      "Gradient Boosting Classifier Excution Time: 0:05:31.949730\n"
     ]
    }
   ],
   "source": [
    "time_start = datetime.now() # Measuring time to generate runtime-benchmark\n",
    "\n",
    "X_train_reshape = X_train.reshape(X_train.shape[0], -1)\n",
    "\n",
    "GBC_model_hyper_params = GBC_model_tuned.best_params_ # Obtaining optimised hyper-paramters\n",
    "GBC_model = GradientBoostingClassifier(**GBC_model_hyper_params) # Instantiating model with optimised hyper-paramters\n",
    "GBC_model.fit(X_train_reshape, y_train) # Training the model\n",
    "\n",
    "X_test_reshape = X_test.reshape(X_test.shape[0], -1) # Reshaping data to required format\n",
    "\n",
    "y_pred = GBC_model.predict(X_test_reshape) # Making predictions on test data\n",
    "GBC_model_accuracy = accuracy_score(y_test, y_pred) # Estimating model performance\n",
    "print(\"Gradient Boosting Classifier Accuracy: {}\".format(GBC_model_accuracy)) # Printing model accuracy\n",
    "\n",
    "time_end = datetime.now() # Measuring time to generate runtime-benchmark\n",
    "GBC_model_run_time = time_end - time_start # Measuring time to generate runtime-benchmark\n",
    "print(f\"Gradient Boosting Classifier Excution Time: {GBC_model_run_time}\") # Printing model runtime-benchmark\n"
   ]
  },
  {
   "cell_type": "code",
   "execution_count": 10,
   "id": "e4f967c7",
   "metadata": {},
   "outputs": [
    {
     "data": {
      "image/png": "[encoded data removed]",
      "text/plain": [
       "<Figure size 640x480 with 2 Axes>"
      ]
     },
     "metadata": {},
     "output_type": "display_data"
    }
   ],
   "source": [
    "Confustion_Matrix = confusion_matrix(y_test, y_pred) # Generating confusion matrix\n",
    "\n",
    "# Plotting confusion matrix\n",
    "Confustion_Matrix_plot = ConfusionMatrixDisplay(confusion_matrix=Confustion_Matrix)\n",
    "Confustion_Matrix_plot.plot(cmap=plt.cm.Blues)\n",
    "plt.show()"
   ]
  },
  {
   "cell_type": "code",
   "execution_count": 11,
   "id": "30c9b8d8",
   "metadata": {},
   "outputs": [],
   "source": [
    "if write_to_file: # Checking if a local copy needs to be saved\n",
    "    GBC_model_path = ML_model_path + \"GBC_Classifier.joblib\" # Genarating the file local path\n",
    "    joblib.dump(GBC_model, GBC_model_path) # Saving the trained model locally"
   ]
  },
  {
   "cell_type": "code",
   "execution_count": 52,
   "id": "a80aa4cd",
   "metadata": {},
   "outputs": [],
   "source": [
    "def RNN_model_gen(dropout=0.2, activation_function='softmax', optimizer='adam'):\n",
    "    \"\"\"\n",
    "    Function to instantiate and RNN Classifier model\n",
    "    \"\"\"\n",
    "    RNN_model = Sequential() # Instantiating a tensorflow class\n",
    "    RNN_model.add(tf.keras.Input(shape=(256,64))) # Defining the input layer\n",
    "    RNN_model.add(SimpleRNN(units=64, activation=activation_function, return_sequences=True)) # Adding RNN layer\n",
    "    RNN_model.add(Dropout(dropout)) # Adding a dropout layer\n",
    "    RNN_model.add(SimpleRNN(units=32, activation=activation_function)) # Adding RNN layer\n",
    "    RNN_model.add(Dropout(dropout)) # Adding a dropout layer\n",
    "    RNN_model.add(Dense(len(target_classifications_dict), activation='sigmoid')) # Adding a dense output layer\n",
    "    \n",
    "    RNN_model.compile(optimizer=optimizer, loss='categorical_crossentropy', metrics=['accuracy']) # Compiling the RNN model\n",
    "    return RNN_model\n",
    "\n",
    "def LSTM_model_gen(dropout=0.2, activation_function='softmax', optimizer='adam'):\n",
    "    \"\"\"\n",
    "    Function to instantiate and LSTM Classifier model\n",
    "    \"\"\"\n",
    "    LSTM_model = Sequential() # Instantiating a tensorflow class\n",
    "    LSTM_model.add(tf.keras.Input(shape=(256,64))) # Defining the input layer\n",
    "    LSTM_model.add(LSTM(units=128, activation=activation_function, return_sequences=True)) # Adding LSTM layer\n",
    "    LSTM_model.add(Dropout(dropout)) # Adding a dropout layer\n",
    "    LSTM_model.add(LSTM(units=32, activation=activation_function)) # Adding LSTM layer\n",
    "    LSTM_model.add(Dropout(dropout)) # Adding a dropout layer\n",
    "    LSTM_model.add(Dense(len(target_classifications_dict), activation='sigmoid')) # Adding a dense output layer\n",
    "        \n",
    "    LSTM_model.compile(optimizer=optimizer, loss='categorical_crossentropy', metrics=['accuracy']) # Compiling the LSTM model\n",
    "    \n",
    "    return LSTM_model\n",
    "\n",
    "def MLP_model_gen(activation_function='softmax'):\n",
    "    \"\"\"\n",
    "    Function to instantiate and MLP Classifier model\n",
    "    \"\"\"\n",
    "    MLP_model = Sequential() # Instantiating a tensorflow class\n",
    "    MLP_model.add(tf.keras.Input(shape=(256, 64))) # Defining the input layer \n",
    "    MLP_model.add(tf.keras.layers.Flatten()) # Adding flatten layer to reshape the data to 1-D format\n",
    "    MLP_model.add(Dense(128, activation=activation_function)) # Adding a dense layer\n",
    "#     MLP_model.add(Dropout(dropout)) # Adding a dropout layer\n",
    "    MLP_model.add(Dense(64, activation=activation_function)) # Adding a dense layer\n",
    "#     MLP_model.add(Dropout(dropout)) # Adding a dropout layer\n",
    "    MLP_model.add(Dense(16, activation=activation_function)) # Adding a dense layer\n",
    "    MLP_model.add(Dense(len(target_classifications_dict))) # Adding a dense output layer     \n",
    "    \n",
    "    MLP_model.compile(optimizer='adam', \n",
    "#                       loss='categorical_crossentropy',\n",
    "                      loss=tf.keras.losses.SparseCategoricalCrossentropy(from_logits=True),\n",
    "                      metrics=['accuracy']) # Compiling the MLP model\n",
    "    \n",
    "    return MLP_model   \n",
    "\n",
    "def CNN_model_gen(units_Dense=32, activation_Cv2D='relu', activation_Dense='relu'):\n",
    "    \"\"\"\n",
    "    Function to instantiate and CNN Classifier model\n",
    "    \"\"\"\n",
    "    CNN_model = Sequential() # Instantiating a tensorflow class\n",
    "    CNN_model.add(tf.keras.Input(shape=(256,64, 1))) # Defining the input layer  \n",
    "    CNN_model.add(tf.keras.layers.Conv2D(16, (3, 3), activation=activation_Cv2D)) # Adding a 2D Convolutional layer\n",
    "    CNN_model.add(tf.keras.layers.MaxPooling2D((2, 2))) # Adding a MaxPooling2D layer\n",
    "    CNN_model.add(tf.keras.layers.Conv2D(128, (3, 3), activation=activation_Cv2D)) # Adding a 2D Convolutional layer\n",
    "    CNN_model.add(tf.keras.layers.MaxPooling2D((2, 2))) # Adding a MaxPooling2D layer   \n",
    "    CNN_model.add(tf.keras.layers.Conv2D(32, (3, 3), activation=activation_Cv2D)) # Adding a 2D Convolutional layer\n",
    "    CNN_model.add(tf.keras.layers.MaxPooling2D((2, 2))) # Adding a MaxPooling2D layer \n",
    "    CNN_model.add(tf.keras.layers.Flatten()) # Adding flatten layer to reshape the data to 1-D format\n",
    "    CNN_model.add(tf.keras.layers.Dense(units_Dense, activation=activation_Dense)) # Adding a dense layer\n",
    "    CNN_model.add(tf.keras.layers.Dense(len(target_classifications_dict), activation='softmax')) # Adding a dense output layer\n",
    "    \n",
    "    CNN_model.compile(optimizer='adam', loss='sparse_categorical_crossentropy', metrics=['accuracy']) # Compiling the CNN model\n",
    "    \n",
    "    return CNN_model"
   ]
  },
  {
   "cell_type": "markdown",
   "id": "497c6e60",
   "metadata": {},
   "source": [
    "### RNN"
   ]
  },
  {
   "cell_type": "code",
   "execution_count": 14,
   "id": "5f798f68",
   "metadata": {},
   "outputs": [
    {
     "data": {
      "text/plain": [
       "{'model__optimizer': 'rmsprop',\n",
       " 'model__dropout': 0.2,\n",
       " 'model__activation_function': 'sigmoid',\n",
       " 'epochs': 30}"
      ]
     },
     "execution_count": 14,
     "metadata": {},
     "output_type": "execute_result"
    }
   ],
   "source": [
    "RNN_model = KerasClassifier(model=RNN_model_gen, verbose=0) # Instantiating a KerasClassifier for hyper-parameter tuning\n",
    "\n",
    "RNN_hyper_params = {\n",
    "    'model__dropout': [0.1, 0.2, 0.3],\n",
    "    'model__activation_function': ['relu', 'softmax', 'sigmoid'],\n",
    "    'model__optimizer': ['adam', 'rmsprop'],\n",
    "#     'batch_size': [16, 32, 64],\n",
    "    'epochs': [10, 20, 30]\n",
    "} # Defining a set of hyper-parameters to optimise\n",
    "\n",
    "RNN_Optimiser = RandomizedSearchCV(estimator=RNN_model, \n",
    "                                   param_distributions=RNN_hyper_params, \n",
    "                                   n_iter=5,   # Number of hyper-parameter combinations\n",
    "                                   cv=3,       # Number of cross-validation folds\n",
    "                                   verbose=2)  # Using RandomizedSearchCV() for hyper-parameter tuning\n",
    "\n",
    "RNN_Optimiser.fit(X_train_hpt, y_train_Cat_hpt) # Optimising hyper-parameters\n",
    "clear_output() \n",
    "\n",
    "RNN_best_params = RNN_Optimiser.best_params_ # Saving Optimised hyper-parameters\n",
    "RNN_best_params\n"
   ]
  },
  {
   "cell_type": "code",
   "execution_count": 15,
   "id": "b4de545d",
   "metadata": {},
   "outputs": [
    {
     "name": "stdout",
     "output_type": "stream",
     "text": [
      "\u001b[1m95/95\u001b[0m \u001b[32m━━━━━━━━━━━━━━━━━━━━\u001b[0m\u001b[37m\u001b[0m \u001b[1m1s\u001b[0m 10ms/step - accuracy: 0.9843 - loss: 0.0461\n",
      "RNN Model Excution Time: 0:05:31.249677\n"
     ]
    }
   ],
   "source": [
    "time_start = datetime.now() # Measuring time to generate runtime-benchmark\n",
    "\n",
    "RNN_model = RNN_model_gen(dropout=RNN_best_params['model__dropout'], \n",
    "                          activation_function=RNN_best_params['model__activation_function'], \n",
    "                          optimizer=RNN_best_params['model__optimizer']) # Instantiating model with optimised hyper-paramters\n",
    "\n",
    "RNN_model.fit(X_train, y_train_Cat, epochs=RNN_best_params['epochs'], validation_split=0.2, verbose=True) # Training the model\n",
    "\n",
    "clear_output()\n",
    "loss, accuracy = RNN_model.evaluate(X_test, y_test_Cat) # Estimating model performance\n",
    "\n",
    "time_end = datetime.now() # Measuring time to generate runtime-benchmark\n",
    "RNN_model_run_time = time_end - time_start # Measuring time to generate runtime-benchmark\n",
    "print(f\"RNN Model Excution Time: {RNN_model_run_time}\") # Printing model runtime-benchmark\n"
   ]
  },
  {
   "cell_type": "code",
   "execution_count": 16,
   "id": "b68221dc",
   "metadata": {},
   "outputs": [
    {
     "name": "stdout",
     "output_type": "stream",
     "text": [
      "\u001b[1m95/95\u001b[0m \u001b[32m━━━━━━━━━━━━━━━━━━━━\u001b[0m\u001b[37m\u001b[0m \u001b[1m1s\u001b[0m 13ms/step\n"
     ]
    },
    {
     "data": {
      "image/png": "[encoded data removed]",
      "text/plain": [
       "<Figure size 640x480 with 2 Axes>"
      ]
     },
     "metadata": {},
     "output_type": "display_data"
    }
   ],
   "source": [
    "RNN_y_pred_Cat = RNN_model.predict(X_test) # Making predictions on test data\n",
    "RNN_y_pred = np.argmax(RNN_y_pred_Cat, axis=1) # Reformatting predicted data to the format of actual data\n",
    "\n",
    "Confustion_Matrix = confusion_matrix(y_test, RNN_y_pred) # Generating confusion matrix\n",
    "\n",
    "# Plotting confusion matrix\n",
    "Confustion_Matrix_plot = ConfusionMatrixDisplay(confusion_matrix=Confustion_Matrix)\n",
    "Confustion_Matrix_plot.plot(cmap=plt.cm.Blues)\n",
    "plt.show()"
   ]
  },
  {
   "cell_type": "code",
   "execution_count": 17,
   "id": "35bed55c",
   "metadata": {},
   "outputs": [],
   "source": [
    "if write_to_file: # Checking if a local copy needs to be saved\n",
    "    RNN_model_path = ML_model_path + \"RNN_Classifier.joblib\" # Genarating the file local path\n",
    "    joblib.dump(RNN_model, RNN_model_path) # Saving the trained model locally"
   ]
  },
  {
   "cell_type": "markdown",
   "id": "7c7658e7",
   "metadata": {},
   "source": [
    "### LSTM"
   ]
  },
  {
   "cell_type": "code",
   "execution_count": 18,
   "id": "510efad5",
   "metadata": {},
   "outputs": [
    {
     "data": {
      "text/plain": [
       "{'model__optimizer': 'adam',\n",
       " 'model__dropout': 0.3,\n",
       " 'model__activation_function': 'sigmoid',\n",
       " 'epochs': 20}"
      ]
     },
     "execution_count": 18,
     "metadata": {},
     "output_type": "execute_result"
    }
   ],
   "source": [
    "LSTM_model = KerasClassifier(model=LSTM_model_gen, verbose=0) # Instantiating a KerasClassifier for hyper-parameter tuning\n",
    "\n",
    "LSTM_hyper_params = {\n",
    "    'model__dropout': [0.1, 0.2, 0.3],\n",
    "    'model__activation_function': ['relu', 'softmax', 'sigmoid'],\n",
    "    'model__optimizer': ['adam', 'rmsprop'],\n",
    "#     'batch_size': [16, 32, 64],\n",
    "    'epochs': [10, 20, 30]\n",
    "} # Defining a set of hyper-parameters to optimise\n",
    "\n",
    "LSTM_Optimiser = RandomizedSearchCV(estimator=LSTM_model, \n",
    "                                   param_distributions=LSTM_hyper_params, \n",
    "                                   n_iter=10,  # Number of hyper-parameter combinations\n",
    "                                   cv=3,       # Number of cross-validation folds\n",
    "                                   verbose=2)  # Using RandomizedSearchCV() for hyper-parameter tuning\n",
    "\n",
    "LSTM_Optimiser.fit(X_train_hpt, y_train_Cat_hpt) # Optimising hyper-parameters\n",
    "clear_output() \n",
    "\n",
    "LSTM_best_params = LSTM_Optimiser.best_params_ # Saving Optimised hyper-parameters\n",
    "LSTM_best_params"
   ]
  },
  {
   "cell_type": "code",
   "execution_count": 19,
   "id": "1e54e03c",
   "metadata": {},
   "outputs": [
    {
     "name": "stdout",
     "output_type": "stream",
     "text": [
      "\u001b[1m95/95\u001b[0m \u001b[32m━━━━━━━━━━━━━━━━━━━━\u001b[0m\u001b[37m\u001b[0m \u001b[1m4s\u001b[0m 39ms/step - accuracy: 0.9987 - loss: 0.0173\n",
      "RNN Model Excution Time: 0:10:04.345358\n"
     ]
    }
   ],
   "source": [
    "time_start = datetime.now() # Measuring time to generate runtime-benchmark\n",
    "\n",
    "LSTM_model = LSTM_model_gen(dropout=LSTM_best_params['model__dropout'], \n",
    "                          activation_function=LSTM_best_params['model__activation_function'], \n",
    "                          optimizer=LSTM_best_params['model__optimizer']) # Instantiating model with optimised hyper-paramters\n",
    "\n",
    "LSTM_model.fit(X_train, y_train_Cat, epochs=LSTM_best_params['epochs'], validation_split=0.2, verbose=True) # Training the model\n",
    "\n",
    "clear_output()\n",
    "loss, accuracy = LSTM_model.evaluate(X_test, y_test_Cat) # Estimating model performance\n",
    "\n",
    "time_end = datetime.now() # Measuring time to generate runtime-benchmark\n",
    "LSTM_model_run_time = time_end - time_start # Measuring time to generate runtime-benchmark\n",
    "print(f\"RNN Model Excution Time: {LSTM_model_run_time}\") # Printing model runtime-benchmark\n"
   ]
  },
  {
   "cell_type": "code",
   "execution_count": 20,
   "id": "439fc8ef",
   "metadata": {},
   "outputs": [
    {
     "name": "stdout",
     "output_type": "stream",
     "text": [
      "\u001b[1m95/95\u001b[0m \u001b[32m━━━━━━━━━━━━━━━━━━━━\u001b[0m\u001b[37m\u001b[0m \u001b[1m4s\u001b[0m 41ms/step\n"
     ]
    },
    {
     "data": {
      "image/png": "[encoded data removed]",
      "text/plain": [
       "<Figure size 640x480 with 2 Axes>"
      ]
     },
     "metadata": {},
     "output_type": "display_data"
    }
   ],
   "source": [
    "LSTM_y_pred_Cat = LSTM_model.predict(X_test) # Making predictions on test data\n",
    "LSTM_y_pred = np.argmax(LSTM_y_pred_Cat, axis=1) # Reformatting predicted data to the format of actual data\n",
    "\n",
    "Confustion_Matrix = confusion_matrix(y_test, LSTM_y_pred) # Generating confusion matrix\n",
    "\n",
    "# Plotting confusion matrix\n",
    "Confustion_Matrix_plot = ConfusionMatrixDisplay(confusion_matrix=Confustion_Matrix)\n",
    "Confustion_Matrix_plot.plot(cmap=plt.cm.Blues)\n",
    "plt.show()"
   ]
  },
  {
   "cell_type": "code",
   "execution_count": 21,
   "id": "cc4dbbc6",
   "metadata": {},
   "outputs": [],
   "source": [
    "if write_to_file: # Checking if a local copy needs to be saved\n",
    "    LSTM_model_path = ML_model_path + \"LSTM_Classifier.joblib\" # Genarating the file local path\n",
    "    joblib.dump(LSTM_model, LSTM_model_path) # Saving the trained model locally"
   ]
  },
  {
   "cell_type": "markdown",
   "id": "93ef87ce",
   "metadata": {},
   "source": [
    "### Multilayer Perceptron (MLP)"
   ]
  },
  {
   "cell_type": "code",
   "execution_count": 39,
   "id": "375d3083",
   "metadata": {},
   "outputs": [
    {
     "data": {
      "text/plain": [
       "{'model__activation_function': 'relu', 'epochs': 10, 'batch_size': 64}"
      ]
     },
     "execution_count": 39,
     "metadata": {},
     "output_type": "execute_result"
    }
   ],
   "source": [
    "MLP_model = KerasClassifier(model=MLP_model_gen, verbose=0) # Instantiating a KerasClassifier for hyper-parameter tuning\n",
    "\n",
    "MLP_hyper_params = {\n",
    "    'model__activation_function': ['relu', 'softmax', 'sigmoid'],\n",
    "    'batch_size': [16, 32, 64],  \n",
    "    'epochs': [10, 20, 30]\n",
    "} # Defining a set of hyper-parameters to optimise\n",
    "\n",
    "MLP_Optimiser = RandomizedSearchCV(estimator=MLP_model, \n",
    "                                   param_distributions=MLP_hyper_params, \n",
    "                                   n_iter=10,  # Number of hyper-parameter combinations\n",
    "                                   cv=3,       # Number of cross-validation folds\n",
    "                                   verbose=2)  # Using RandomizedSearchCV() for hyper-parameter tuning\n",
    "\n",
    "MLP_Optimiser.fit(X_train_hpt, y_train_hpt) # Optimising hyper-parameters\n",
    "clear_output() \n",
    "\n",
    "MLP_best_params = MLP_Optimiser.best_params_ # Saving Optimised hyper-parameters\n",
    "MLP_best_params"
   ]
  },
  {
   "cell_type": "code",
   "execution_count": 53,
   "id": "42dd531e",
   "metadata": {},
   "outputs": [
    {
     "name": "stdout",
     "output_type": "stream",
     "text": [
      "\u001b[1m95/95\u001b[0m \u001b[32m━━━━━━━━━━━━━━━━━━━━\u001b[0m\u001b[37m\u001b[0m \u001b[1m0s\u001b[0m 2ms/step - accuracy: 0.8908 - loss: 2.1013\n",
      "RNN Model Excution Time: 0:00:36.425171\n"
     ]
    }
   ],
   "source": [
    "time_start = datetime.now() # Measuring time to generate runtime-benchmark\n",
    "\n",
    "MLP_model = MLP_model_gen(activation_function=MLP_best_params['model__activation_function']) # Instantiating model with optimised hyper-paramters\n",
    "                         \n",
    "MLP_model.fit(X_train, y_train, epochs=MLP_best_params['epochs'], validation_split=0.2, verbose=True) # Training the model\n",
    "\n",
    "clear_output()\n",
    "loss, accuracy = MLP_model.evaluate(X_test, y_test) # Estimating model performance\n",
    "\n",
    "time_end = datetime.now() # Measuring time to generate runtime-benchmark\n",
    "MLP_model_run_time = time_end - time_start # Measuring time to generate runtime-benchmark\n",
    "print(f\"RNN Model Excution Time: {MLP_model_run_time}\") # Printing model runtime-benchmark\n"
   ]
  },
  {
   "cell_type": "code",
   "execution_count": 55,
   "id": "77c074ac",
   "metadata": {},
   "outputs": [
    {
     "name": "stdout",
     "output_type": "stream",
     "text": [
      "\u001b[1m95/95\u001b[0m \u001b[32m━━━━━━━━━━━━━━━━━━━━\u001b[0m\u001b[37m\u001b[0m \u001b[1m0s\u001b[0m 1ms/step\n"
     ]
    },
    {
     "data": {
      "image/png": "[encoded data removed]",
      "text/plain": [
       "<Figure size 640x480 with 2 Axes>"
      ]
     },
     "metadata": {},
     "output_type": "display_data"
    }
   ],
   "source": [
    "MLP_y_pred_Cat = MLP_model.predict(X_test) # Making predictions on test data\n",
    "MLP_y_pred = np.argmax(MLP_y_pred_Cat, axis=1) # Reformatting predicted data to the format of actual data\n",
    "\n",
    "Confustion_Matrix = confusion_matrix(y_test, MLP_y_pred) # Generating confusion matrix\n",
    "\n",
    "# Plotting confusion matrix\n",
    "Confustion_Matrix_plot = ConfusionMatrixDisplay(confusion_matrix=Confustion_Matrix)\n",
    "Confustion_Matrix_plot.plot(cmap=plt.cm.Blues)\n",
    "plt.show()"
   ]
  },
  {
   "cell_type": "code",
   "execution_count": 56,
   "id": "5e8b1619",
   "metadata": {},
   "outputs": [],
   "source": [
    "if write_to_file: # Checking if a local copy needs to be saved\n",
    "    MLP_model_path = ML_model_path + \"MLP_Classifier.joblib\" # Genarating the file local path\n",
    "    joblib.dump(MLP_model, MLP_model_path) # Saving the trained model locally"
   ]
  },
  {
   "cell_type": "markdown",
   "id": "cfbdab19",
   "metadata": {},
   "source": [
    "### Convolutional Neural Network (CNN)"
   ]
  },
  {
   "cell_type": "code",
   "execution_count": 26,
   "id": "7fbd0af0",
   "metadata": {},
   "outputs": [
    {
     "data": {
      "text/plain": [
       "{'model__units_Dense': 16,\n",
       " 'model__activation_Dense': 'relu',\n",
       " 'model__activation_Cv2D': 'tanh',\n",
       " 'epochs': 20,\n",
       " 'batch_size': 64}"
      ]
     },
     "execution_count": 26,
     "metadata": {},
     "output_type": "execute_result"
    }
   ],
   "source": [
    "CNN_model = KerasClassifier(model=CNN_model_gen, verbose=0) # Instantiating a KerasClassifier for hyper-parameter tuning\n",
    "\n",
    "CNN_hyper_params = {\n",
    "    'model__units_Dense': [16, 32],\n",
    "    'model__activation_Cv2D': ['relu', 'tanh', 'sigmoid'],\n",
    "    'model__activation_Dense': ['relu', 'tanh', 'sigmoid'],\n",
    "    'epochs': [10, 20],\n",
    "    'batch_size': [32, 64]\n",
    "} # Defining a set of hyper-parameters to optimise\n",
    "\n",
    "CNN_Optimiser = RandomizedSearchCV(estimator=CNN_model, \n",
    "                                   param_distributions=CNN_hyper_params, \n",
    "                                   n_iter=5,   # Number of hyper-parameter combinations\n",
    "                                   cv=3,       # Number of cross-validation folds\n",
    "                                   verbose=2)  # Using RandomizedSearchCV() for hyper-parameter tuning\n",
    "\n",
    "X_train_hpt_reshape = X_train_hpt.reshape((X_train_hpt.shape[0], 256, 64, 1)) # Reshaping data to required format\n",
    "CNN_Optimiser.fit(X_train_hpt_reshape, y_train_hpt) # Optimising hyper-parameters\n",
    "clear_output() \n",
    "\n",
    "CNN_best_params = CNN_Optimiser.best_params_ # Saving Optimised hyper-parameters\n",
    "CNN_best_params"
   ]
  },
  {
   "cell_type": "code",
   "execution_count": 27,
   "id": "639b65ff",
   "metadata": {},
   "outputs": [
    {
     "name": "stdout",
     "output_type": "stream",
     "text": [
      "\u001b[1m95/95\u001b[0m \u001b[32m━━━━━━━━━━━━━━━━━━━━\u001b[0m\u001b[37m\u001b[0m \u001b[1m2s\u001b[0m 22ms/step - accuracy: 1.0000 - loss: 8.5807e-06\n",
      "RNN Model Excution Time: 0:08:04.550149\n"
     ]
    }
   ],
   "source": [
    "time_start = datetime.now() # Measuring time to generate runtime-benchmark\n",
    "\n",
    "CNN_model = CNN_model_gen(units_Dense=CNN_best_params['model__units_Dense'], \n",
    "                          activation_Cv2D=CNN_best_params['model__activation_Cv2D'],\n",
    "                          activation_Dense=CNN_best_params['model__activation_Dense']\n",
    "                         ) # Instantiating model with optimised hyper-paramters\n",
    "\n",
    "X_train_reshape = X_train.reshape((X_train.shape[0], 256, 64, 1)) # Reshaping data to required format\n",
    "CNN_model.fit(X_train_reshape, y_train, epochs=CNN_best_params['epochs'], validation_split=0.2, verbose=True) # Training the model\n",
    "\n",
    "clear_output()\n",
    "X_test_reshape = X_test.reshape((X_test.shape[0], 256, 64, 1)) # Reshaping data to required format\n",
    "loss, accuracy = CNN_model.evaluate(X_test_reshape, y_test) # Estimating model performance\n",
    "\n",
    "time_end = datetime.now() # Measuring time to generate runtime-benchmark\n",
    "CNN_model_run_time = time_end - time_start # Measuring time to generate runtime-benchmark\n",
    "print(f\"RNN Model Excution Time: {CNN_model_run_time}\") # Printing model runtime-benchmark\n"
   ]
  },
  {
   "cell_type": "code",
   "execution_count": 28,
   "id": "cc7bf6bc",
   "metadata": {},
   "outputs": [
    {
     "name": "stdout",
     "output_type": "stream",
     "text": [
      "\u001b[1m95/95\u001b[0m \u001b[32m━━━━━━━━━━━━━━━━━━━━\u001b[0m\u001b[37m\u001b[0m \u001b[1m2s\u001b[0m 23ms/step\n"
     ]
    },
    {
     "data": {
      "image/png": "[encoded data removed]",
      "text/plain": [
       "<Figure size 640x480 with 2 Axes>"
      ]
     },
     "metadata": {},
     "output_type": "display_data"
    }
   ],
   "source": [
    "CNN_y_pred_Cat = CNN_model.predict(X_test_reshape) # Making predictions on test data\n",
    "CNN_y_pred = np.argmax(CNN_y_pred_Cat, axis=1) # Reformatting predicted data to the format of actual data\n",
    "\n",
    "Confustion_Matrix = confusion_matrix(y_test, CNN_y_pred) # Generating confusion matrix\n",
    "\n",
    "# Plotting confusion matrix\n",
    "Confustion_Matrix_plot = ConfusionMatrixDisplay(confusion_matrix=Confustion_Matrix)\n",
    "Confustion_Matrix_plot.plot(cmap=plt.cm.Blues)\n",
    "plt.show()"
   ]
  },
  {
   "cell_type": "code",
   "execution_count": 29,
   "id": "20181ccf",
   "metadata": {},
   "outputs": [],
   "source": [
    "if write_to_file: # Checking if a local copy needs to be saved\n",
    "    CNN_model_path = ML_model_path + \"CNN_Classifier.joblib\" # Genarating the file local path\n",
    "    joblib.dump(CNN_model, CNN_model_path) # Saving the trained model locally"
   ]
  },
  {
   "cell_type": "code",
   "execution_count": null,
   "id": "eabfa6a7",
   "metadata": {},
   "outputs": [],
   "source": []
  },
  {
   "cell_type": "code",
   "execution_count": null,
   "id": "99843c01",
   "metadata": {},
   "outputs": [],
   "source": []
  },
  {
   "cell_type": "code",
   "execution_count": null,
   "id": "219319f8",
   "metadata": {},
   "outputs": [],
   "source": []
  },
  {
   "cell_type": "code",
   "execution_count": null,
   "id": "c464f2b9",
   "metadata": {},
   "outputs": [],
   "source": []
  },
  {
   "cell_type": "code",
   "execution_count": null,
   "id": "55fb02f5",
   "metadata": {},
   "outputs": [],
   "source": []
  },
  {
   "cell_type": "code",
   "execution_count": null,
   "id": "c11633c6",
   "metadata": {},
   "outputs": [],
   "source": []
  }
 ],
 "metadata": {
  "kernelspec": {
   "display_name": "Python 3 (ipykernel)",
   "language": "python",
   "name": "python3"
  },
  "language_info": {
   "codemirror_mode": {
    "name": "ipython",
    "version": 3
   },
   "file_extension": ".py",
   "mimetype": "text/x-python",
   "name": "python",
   "nbconvert_exporter": "python",
   "pygments_lexer": "ipython3",
   "version": "3.9.18"
  }
 },
 "nbformat": 4,
 "nbformat_minor": 5
}
